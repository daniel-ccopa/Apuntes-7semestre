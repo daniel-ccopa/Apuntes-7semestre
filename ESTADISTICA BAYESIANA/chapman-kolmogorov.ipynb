{
 "cells": [
  {
   "cell_type": "code",
   "execution_count": null,
   "metadata": {
    "vscode": {
     "languageId": "plaintext"
    }
   },
   "outputs": [],
   "source": [
    "import numpy as np\n",
    "\n",
    "# Define the matrix P\n",
    "P = np.array([[0.8, 0.2, 0.0],\n",
    "              [0.1, 0.8, 0.1],\n",
    "              [0.0, 0.2, 0.8]])\n",
    "\n",
    "# Calculate P^4\n",
    "P_to_the_4th = np.linalg.matrix_power(P, 4)\n",
    "P_to_the_4th\n"
   ]
  },
  {
   "cell_type": "markdown",
   "metadata": {},
   "source": [
    "La matriz resultante de \\( P \\times P \\times P \\times P \\) es:\n",
    "\n",
    "\\[\n",
    "\\begin{bmatrix}\n",
    "0.4872 & 0.4352 & 0.0776 \\\\\n",
    "0.2176 & 0.5648 & 0.2176 \\\\\n",
    "0.0776 & 0.4352 & 0.4872 \\\\\n",
    "\\end{bmatrix}\n",
    "\\]\n"
   ]
  }
 ],
 "metadata": {
  "language_info": {
   "name": "python"
  }
 },
 "nbformat": 4,
 "nbformat_minor": 2
}
