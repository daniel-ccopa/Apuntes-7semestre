{
 "cells": [
  {
   "cell_type": "code",
   "execution_count": 1,
   "metadata": {},
   "outputs": [],
   "source": [
    "from pptx import Presentation\n",
    "from pptx.util import Inches"
   ]
  },
  {
   "cell_type": "code",
   "execution_count": 2,
   "metadata": {},
   "outputs": [],
   "source": [
    "# Crear una presentación en PowerPoint\n",
    "prs = Presentation()"
   ]
  },
  {
   "cell_type": "code",
   "execution_count": 3,
   "metadata": {},
   "outputs": [],
   "source": [
    "# Slide 1: Título\n",
    "slide_1 = prs.slides.add_slide(prs.slide_layouts[0])\n",
    "title = slide_1.shapes.title\n",
    "subtitle = slide_1.placeholders[1]\n",
    "\n",
    "title.text = \"Árboles de Regresión\"\n",
    "subtitle.text = \"Explicación y Aplicaciones\""
   ]
  },
  {
   "cell_type": "code",
   "execution_count": 4,
   "metadata": {},
   "outputs": [],
   "source": [
    "# Slide 2: Introducción\n",
    "slide_2 = prs.slides.add_slide(prs.slide_layouts[1])\n",
    "title_2 = slide_2.shapes.title\n",
    "content_2 = slide_2.shapes.placeholders[1]\n",
    "title_2.text = \"Introducción\"\n",
    "content_2.text = (\"Los métodos predictivos como la regresión lineal generan modelos globales. \"\n",
    "                  \"Sin embargo, cuando los predictores interactúan de manera no lineal, se necesitan métodos más flexibles como los árboles de regresión. \"\n",
    "                  \"Los árboles de regresión dividen el espacio de predictores en regiones más manejables para predecir una variable continua.\")\n"
   ]
  },
  {
   "cell_type": "code",
   "execution_count": 5,
   "metadata": {},
   "outputs": [],
   "source": [
    "# Slide 3: Árboles de Regresión\n",
    "slide_3 = prs.slides.add_slide(prs.slide_layouts[1])\n",
    "title_3 = slide_3.shapes.title\n",
    "content_3 = slide_3.shapes.placeholders[1]\n",
    "title_3.text = \"Árboles de Regresión\"\n",
    "content_3.text = (\"Los árboles de regresión dividen los datos de forma sucesiva en función de los valores de las variables predictoras. \"\n",
    "                  \"Cada nodo terminal del árbol predice el valor de la variable dependiente como la media de las observaciones en ese nodo. \"\n",
    "                  \"Un ejemplo simple sería predecir el salario de jugadores de béisbol según años de experiencia y bateos.\")\n"
   ]
  },
  {
   "cell_type": "code",
   "execution_count": 6,
   "metadata": {},
   "outputs": [
    {
     "data": {
      "text/plain": [
       "<pptx.shapes.picture.Picture at 0x1f8c7c9eed0>"
      ]
     },
     "execution_count": 6,
     "metadata": {},
     "output_type": "execute_result"
    }
   ],
   "source": [
    "# Slide 4: Ejemplo Gráfico\n",
    "slide_4 = prs.slides.add_slide(prs.slide_layouts[5])\n",
    "title_4 = slide_4.shapes.title\n",
    "title_4.text = \"Ejemplo: Árbol de Regresión para Jugadores de Béisbol\"\n",
    "img_path = 'arbol_ejemplo.png'  # Path to the image file (as an example)\n",
    "slide_4.shapes.add_picture(img_path, Inches(1), Inches(1), width=Inches(4.5))\n"
   ]
  },
  {
   "cell_type": "code",
   "execution_count": 7,
   "metadata": {},
   "outputs": [],
   "source": [
    "# Slide 5: Entrenamiento del Árbol\n",
    "slide_5 = prs.slides.add_slide(prs.slide_layouts[1])\n",
    "title_5 = slide_5.shapes.title\n",
    "content_5 = slide_5.shapes.placeholders[1]\n",
    "title_5.text = \"Entrenamiento del Árbol\"\n",
    "content_5.text = (\"El proceso de construcción de un árbol de regresión implica dividir sucesivamente el espacio de predictores en regiones simples. \"\n",
    "                  \"El objetivo es minimizar la suma residual de cuadrados (RSS) en cada nodo. \"\n",
    "                  \"Este proceso se conoce como 'Recursive Binary Splitting'.\")\n",
    "\n"
   ]
  },
  {
   "cell_type": "code",
   "execution_count": 8,
   "metadata": {},
   "outputs": [],
   "source": [
    "# Slide 6: Ventajas y Desventajas\n",
    "slide_6 = prs.slides.add_slide(prs.slide_layouts[1])\n",
    "title_6 = slide_6.shapes.title\n",
    "content_6 = slide_6.shapes.placeholders[1]\n",
    "title_6.text = \"Ventajas y Desventajas\"\n",
    "content_6.text = (\"Ventajas:\\n\"\n",
    "                  \"- Fácil interpretación.\\n\"\n",
    "                  \"- Capturan relaciones no lineales entre predictores.\\n\"\n",
    "                  \"- Pueden manejar datos cualitativos y cuantitativos.\\n\\n\"\n",
    "                  \"Desventajas:\\n\"\n",
    "                  \"- Tendencia al sobreajuste (overfitting).\\n\"\n",
    "                  \"- Menor precisión que otros métodos más avanzados como Random Forest o Boosting.\")\n"
   ]
  },
  {
   "cell_type": "code",
   "execution_count": 9,
   "metadata": {},
   "outputs": [
    {
     "data": {
      "text/plain": [
       "'arboles_regresion_presentacion.pptx'"
      ]
     },
     "execution_count": 9,
     "metadata": {},
     "output_type": "execute_result"
    }
   ],
   "source": [
    "# Guardar la presentación\n",
    "pptx_output = \"arboles_regresion_presentacion.pptx\"\n",
    "prs.save(pptx_output)\n",
    "\n",
    "pptx_output"
   ]
  },
  {
   "cell_type": "code",
   "execution_count": null,
   "metadata": {},
   "outputs": [],
   "source": []
  }
 ],
 "metadata": {
  "kernelspec": {
   "display_name": ".septimo",
   "language": "python",
   "name": "python3"
  },
  "language_info": {
   "codemirror_mode": {
    "name": "ipython",
    "version": 3
   },
   "file_extension": ".py",
   "mimetype": "text/x-python",
   "name": "python",
   "nbconvert_exporter": "python",
   "pygments_lexer": "ipython3",
   "version": "3.12.6"
  }
 },
 "nbformat": 4,
 "nbformat_minor": 2
}
